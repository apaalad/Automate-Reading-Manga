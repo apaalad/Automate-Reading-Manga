{
 "cells": [
  {
   "cell_type": "code",
   "execution_count": 1,
   "id": "8a133a23",
   "metadata": {
    "_cell_guid": "b1076dfc-b9ad-4769-8c92-a6c4dae69d19",
    "_uuid": "8f2839f25d086af736a60e9eeb907d3b93b6e0e5",
    "execution": {
     "iopub.execute_input": "2022-07-19T18:34:07.348035Z",
     "iopub.status.busy": "2022-07-19T18:34:07.347520Z",
     "iopub.status.idle": "2022-07-19T18:34:14.319185Z",
     "shell.execute_reply": "2022-07-19T18:34:14.317881Z"
    },
    "papermill": {
     "duration": 6.981433,
     "end_time": "2022-07-19T18:34:14.322140",
     "exception": false,
     "start_time": "2022-07-19T18:34:07.340707",
     "status": "completed"
    },
    "tags": []
   },
   "outputs": [],
   "source": [
    "import pandas as pd\n",
    "import numpy as np\n",
    "import matplotlib.pyplot as plt\n",
    "\n",
    "np.random.seed(2)\n",
    "import tensorflow as tf\n",
    "\n",
    "import keras\n",
    "from keras.models import Sequential\n",
    "from keras.layers import Dense, Dropout, Flatten, Conv2D, MaxPool2D, BatchNormalization\n",
    "from tensorflow.keras import optimizers\n",
    "\n",
    "from sklearn.preprocessing import LabelEncoder\n",
    "from sklearn.model_selection import train_test_split"
   ]
  },
  {
   "cell_type": "code",
   "execution_count": 2,
   "id": "a01fd44f",
   "metadata": {
    "execution": {
     "iopub.execute_input": "2022-07-19T18:34:14.330971Z",
     "iopub.status.busy": "2022-07-19T18:34:14.330466Z",
     "iopub.status.idle": "2022-07-19T18:34:17.662352Z",
     "shell.execute_reply": "2022-07-19T18:34:17.661101Z"
    },
    "papermill": {
     "duration": 3.33944,
     "end_time": "2022-07-19T18:34:17.665410",
     "exception": false,
     "start_time": "2022-07-19T18:34:14.325970",
     "status": "completed"
    },
    "tags": []
   },
   "outputs": [
    {
     "name": "stderr",
     "output_type": "stream",
     "text": [
      "2022-07-19 18:34:14.432675: I tensorflow/stream_executor/cuda/cuda_gpu_executor.cc:937] successful NUMA node read from SysFS had negative value (-1), but there must be at least one NUMA node, so returning NUMA node zero\n",
      "2022-07-19 18:34:14.610458: I tensorflow/stream_executor/cuda/cuda_gpu_executor.cc:937] successful NUMA node read from SysFS had negative value (-1), but there must be at least one NUMA node, so returning NUMA node zero\n",
      "2022-07-19 18:34:14.611600: I tensorflow/stream_executor/cuda/cuda_gpu_executor.cc:937] successful NUMA node read from SysFS had negative value (-1), but there must be at least one NUMA node, so returning NUMA node zero\n",
      "2022-07-19 18:34:14.614099: I tensorflow/core/platform/cpu_feature_guard.cc:142] This TensorFlow binary is optimized with oneAPI Deep Neural Network Library (oneDNN) to use the following CPU instructions in performance-critical operations:  AVX2 FMA\n",
      "To enable them in other operations, rebuild TensorFlow with the appropriate compiler flags.\n",
      "2022-07-19 18:34:14.618322: I tensorflow/stream_executor/cuda/cuda_gpu_executor.cc:937] successful NUMA node read from SysFS had negative value (-1), but there must be at least one NUMA node, so returning NUMA node zero\n",
      "2022-07-19 18:34:14.619547: I tensorflow/stream_executor/cuda/cuda_gpu_executor.cc:937] successful NUMA node read from SysFS had negative value (-1), but there must be at least one NUMA node, so returning NUMA node zero\n",
      "2022-07-19 18:34:14.620632: I tensorflow/stream_executor/cuda/cuda_gpu_executor.cc:937] successful NUMA node read from SysFS had negative value (-1), but there must be at least one NUMA node, so returning NUMA node zero\n",
      "2022-07-19 18:34:17.205198: I tensorflow/stream_executor/cuda/cuda_gpu_executor.cc:937] successful NUMA node read from SysFS had negative value (-1), but there must be at least one NUMA node, so returning NUMA node zero\n",
      "2022-07-19 18:34:17.206361: I tensorflow/stream_executor/cuda/cuda_gpu_executor.cc:937] successful NUMA node read from SysFS had negative value (-1), but there must be at least one NUMA node, so returning NUMA node zero\n",
      "2022-07-19 18:34:17.207444: I tensorflow/stream_executor/cuda/cuda_gpu_executor.cc:937] successful NUMA node read from SysFS had negative value (-1), but there must be at least one NUMA node, so returning NUMA node zero\n",
      "2022-07-19 18:34:17.208362: I tensorflow/core/common_runtime/gpu/gpu_device.cc:1510] Created device /job:localhost/replica:0/task:0/device:GPU:0 with 15403 MB memory:  -> device: 0, name: Tesla P100-PCIE-16GB, pci bus id: 0000:00:04.0, compute capability: 6.0\n"
     ]
    }
   ],
   "source": [
    "model = Sequential()\n",
    "model.add(Conv2D(32, (5,5), activation='relu', input_shape=(48, 48, 1), padding='same'))\n",
    "model.add(MaxPool2D((2,2), padding='same'))\n",
    "model.add(Conv2D(32, (3,3), activation='relu', padding='same'))\n",
    "model.add(MaxPool2D((2,2), padding='same'))\n",
    "model.add(Conv2D(64, (5,5), activation='relu', padding='same'))\n",
    "model.add(MaxPool2D((2,2), padding='same'))\n",
    "model.add(Conv2D(64, (3,3), activation='relu'))\n",
    "model.add(MaxPool2D((2,2), padding='same'))\n",
    "\n",
    "model.add(Dropout(0.25))\n",
    "\n",
    "model.add(Flatten())\n",
    "\n",
    "model.add(Dense(2056, activation='relu'))\n",
    "model.add(Dropout(0.25))\n",
    "model.add(Dense(1053, activation='softmax'))"
   ]
  },
  {
   "cell_type": "code",
   "execution_count": 3,
   "id": "cd4eb49e",
   "metadata": {
    "execution": {
     "iopub.execute_input": "2022-07-19T18:34:17.674549Z",
     "iopub.status.busy": "2022-07-19T18:34:17.674212Z",
     "iopub.status.idle": "2022-07-19T18:34:17.689125Z",
     "shell.execute_reply": "2022-07-19T18:34:17.687985Z"
    },
    "papermill": {
     "duration": 0.02242,
     "end_time": "2022-07-19T18:34:17.691718",
     "exception": false,
     "start_time": "2022-07-19T18:34:17.669298",
     "status": "completed"
    },
    "tags": []
   },
   "outputs": [],
   "source": [
    "model.compile(loss='sparse_categorical_crossentropy', \n",
    "              optimizer=optimizers.Adam(learning_rate=0.0001), metrics='accuracy')"
   ]
  },
  {
   "cell_type": "code",
   "execution_count": 4,
   "id": "f72e4eb0",
   "metadata": {
    "execution": {
     "iopub.execute_input": "2022-07-19T18:34:17.700843Z",
     "iopub.status.busy": "2022-07-19T18:34:17.700542Z",
     "iopub.status.idle": "2022-07-19T18:34:27.045497Z",
     "shell.execute_reply": "2022-07-19T18:34:27.044096Z"
    },
    "papermill": {
     "duration": 9.353257,
     "end_time": "2022-07-19T18:34:27.048775",
     "exception": false,
     "start_time": "2022-07-19T18:34:17.695518",
     "status": "completed"
    },
    "tags": []
   },
   "outputs": [],
   "source": [
    "X_train=np.load(\"../input/japanese-char/data.npz\")['arr_0'].reshape([-1, 48,48,1])\n",
    "y_train=np.load(\"../input/japanese-char/labels.npz\")['arr_0'].reshape([-1,1])"
   ]
  },
  {
   "cell_type": "code",
   "execution_count": 5,
   "id": "ba917a72",
   "metadata": {
    "execution": {
     "iopub.execute_input": "2022-07-19T18:34:27.058477Z",
     "iopub.status.busy": "2022-07-19T18:34:27.057552Z",
     "iopub.status.idle": "2022-07-19T18:34:27.074647Z",
     "shell.execute_reply": "2022-07-19T18:34:27.073454Z"
    },
    "papermill": {
     "duration": 0.025753,
     "end_time": "2022-07-19T18:34:27.078408",
     "exception": false,
     "start_time": "2022-07-19T18:34:27.052655",
     "status": "completed"
    },
    "tags": []
   },
   "outputs": [
    {
     "name": "stderr",
     "output_type": "stream",
     "text": [
      "/opt/conda/lib/python3.7/site-packages/sklearn/preprocessing/_label.py:115: DataConversionWarning: A column-vector y was passed when a 1d array was expected. Please change the shape of y to (n_samples, ), for example using ravel().\n",
      "  y = column_or_1d(y, warn=True)\n"
     ]
    }
   ],
   "source": [
    "le=LabelEncoder()\n",
    "labels_train=le.fit_transform(y_train)"
   ]
  },
  {
   "cell_type": "code",
   "execution_count": 6,
   "id": "c2c9064c",
   "metadata": {
    "execution": {
     "iopub.execute_input": "2022-07-19T18:34:27.088557Z",
     "iopub.status.busy": "2022-07-19T18:34:27.088232Z",
     "iopub.status.idle": "2022-07-19T18:34:27.698660Z",
     "shell.execute_reply": "2022-07-19T18:34:27.697438Z"
    },
    "papermill": {
     "duration": 0.618458,
     "end_time": "2022-07-19T18:34:27.701550",
     "exception": false,
     "start_time": "2022-07-19T18:34:27.083092",
     "status": "completed"
    },
    "tags": []
   },
   "outputs": [],
   "source": [
    "X_train, X_test, y_train, y_test = train_test_split(X_train, labels_train, test_size=0.2, random_state=42)"
   ]
  },
  {
   "cell_type": "code",
   "execution_count": 7,
   "id": "213c675d",
   "metadata": {
    "execution": {
     "iopub.execute_input": "2022-07-19T18:34:27.712993Z",
     "iopub.status.busy": "2022-07-19T18:34:27.711284Z",
     "iopub.status.idle": "2022-07-19T18:41:50.877051Z",
     "shell.execute_reply": "2022-07-19T18:41:50.875603Z"
    },
    "papermill": {
     "duration": 443.174136,
     "end_time": "2022-07-19T18:41:50.879742",
     "exception": false,
     "start_time": "2022-07-19T18:34:27.705606",
     "status": "completed"
    },
    "tags": []
   },
   "outputs": [
    {
     "name": "stderr",
     "output_type": "stream",
     "text": [
      "2022-07-19 18:34:27.719130: W tensorflow/core/framework/cpu_allocator_impl.cc:80] Allocation of 1244528640 exceeds 10% of free system memory.\n",
      "2022-07-19 18:34:28.897118: W tensorflow/core/framework/cpu_allocator_impl.cc:80] Allocation of 1244528640 exceeds 10% of free system memory.\n",
      "2022-07-19 18:34:29.801573: I tensorflow/compiler/mlir/mlir_graph_optimization_pass.cc:185] None of the MLIR Optimization Passes are enabled (registered 2)\n"
     ]
    },
    {
     "name": "stdout",
     "output_type": "stream",
     "text": [
      "Epoch 1/20\n"
     ]
    },
    {
     "name": "stderr",
     "output_type": "stream",
     "text": [
      "2022-07-19 18:34:31.712868: I tensorflow/stream_executor/cuda/cuda_dnn.cc:369] Loaded cuDNN version 8005\n"
     ]
    },
    {
     "name": "stdout",
     "output_type": "stream",
     "text": [
      "4220/4220 [==============================] - 33s 6ms/step - loss: 4.7783 - accuracy: 0.0974 - val_loss: 2.7118 - val_accuracy: 0.3789\n",
      "Epoch 2/20\n",
      "4220/4220 [==============================] - 21s 5ms/step - loss: 2.3775 - accuracy: 0.4095 - val_loss: 1.3438 - val_accuracy: 0.6626\n",
      "Epoch 3/20\n",
      "4220/4220 [==============================] - 21s 5ms/step - loss: 1.4163 - accuracy: 0.6211 - val_loss: 0.7735 - val_accuracy: 0.7954\n",
      "Epoch 4/20\n",
      "4220/4220 [==============================] - 24s 6ms/step - loss: 0.9252 - accuracy: 0.7392 - val_loss: 0.5114 - val_accuracy: 0.8595\n",
      "Epoch 5/20\n",
      "4220/4220 [==============================] - 21s 5ms/step - loss: 0.6666 - accuracy: 0.8053 - val_loss: 0.3540 - val_accuracy: 0.9014\n",
      "Epoch 6/20\n",
      "4220/4220 [==============================] - 21s 5ms/step - loss: 0.5068 - accuracy: 0.8487 - val_loss: 0.2758 - val_accuracy: 0.9208\n",
      "Epoch 7/20\n",
      "4220/4220 [==============================] - 24s 6ms/step - loss: 0.4047 - accuracy: 0.8772 - val_loss: 0.2346 - val_accuracy: 0.9300\n",
      "Epoch 8/20\n",
      "4220/4220 [==============================] - 21s 5ms/step - loss: 0.3392 - accuracy: 0.8955 - val_loss: 0.2029 - val_accuracy: 0.9389\n",
      "Epoch 9/20\n",
      "4220/4220 [==============================] - 21s 5ms/step - loss: 0.2838 - accuracy: 0.9106 - val_loss: 0.1808 - val_accuracy: 0.9457\n",
      "Epoch 10/20\n",
      "4220/4220 [==============================] - 21s 5ms/step - loss: 0.2468 - accuracy: 0.9216 - val_loss: 0.1598 - val_accuracy: 0.9510\n",
      "Epoch 11/20\n",
      "4220/4220 [==============================] - 22s 5ms/step - loss: 0.2158 - accuracy: 0.9312 - val_loss: 0.1412 - val_accuracy: 0.9562\n",
      "Epoch 12/20\n",
      "4220/4220 [==============================] - 21s 5ms/step - loss: 0.1922 - accuracy: 0.9379 - val_loss: 0.1316 - val_accuracy: 0.9601\n",
      "Epoch 13/20\n",
      "4220/4220 [==============================] - 21s 5ms/step - loss: 0.1732 - accuracy: 0.9437 - val_loss: 0.1266 - val_accuracy: 0.9613\n",
      "Epoch 14/20\n",
      "4220/4220 [==============================] - 22s 5ms/step - loss: 0.1577 - accuracy: 0.9484 - val_loss: 0.1176 - val_accuracy: 0.9644\n",
      "Epoch 15/20\n",
      "4220/4220 [==============================] - 21s 5ms/step - loss: 0.1409 - accuracy: 0.9542 - val_loss: 0.1145 - val_accuracy: 0.9653\n",
      "Epoch 16/20\n",
      "4220/4220 [==============================] - 21s 5ms/step - loss: 0.1290 - accuracy: 0.9573 - val_loss: 0.1071 - val_accuracy: 0.9670\n",
      "Epoch 17/20\n",
      "4220/4220 [==============================] - 21s 5ms/step - loss: 0.1206 - accuracy: 0.9603 - val_loss: 0.1076 - val_accuracy: 0.9672\n",
      "Epoch 18/20\n",
      "4220/4220 [==============================] - 21s 5ms/step - loss: 0.1130 - accuracy: 0.9620 - val_loss: 0.1012 - val_accuracy: 0.9692\n",
      "Epoch 19/20\n",
      "4220/4220 [==============================] - 21s 5ms/step - loss: 0.1042 - accuracy: 0.9652 - val_loss: 0.0965 - val_accuracy: 0.9702\n",
      "Epoch 20/20\n",
      "4220/4220 [==============================] - 22s 5ms/step - loss: 0.0981 - accuracy: 0.9673 - val_loss: 0.1055 - val_accuracy: 0.9684\n"
     ]
    },
    {
     "data": {
      "text/plain": [
       "<keras.callbacks.History at 0x7fa20102c2d0>"
      ]
     },
     "execution_count": 7,
     "metadata": {},
     "output_type": "execute_result"
    }
   ],
   "source": [
    "model.fit(x=X_train, y=y_train, validation_data=(X_test,y_test),\n",
    "          epochs = 20, verbose=1, callbacks=None)"
   ]
  },
  {
   "cell_type": "code",
   "execution_count": 8,
   "id": "583ff6bf",
   "metadata": {
    "execution": {
     "iopub.execute_input": "2022-07-19T18:41:51.912707Z",
     "iopub.status.busy": "2022-07-19T18:41:51.912345Z",
     "iopub.status.idle": "2022-07-19T18:41:51.918941Z",
     "shell.execute_reply": "2022-07-19T18:41:51.917510Z"
    },
    "papermill": {
     "duration": 0.544352,
     "end_time": "2022-07-19T18:41:51.922125",
     "exception": false,
     "start_time": "2022-07-19T18:41:51.377773",
     "status": "completed"
    },
    "tags": []
   },
   "outputs": [],
   "source": [
    "np.save('classes.npy', le.classes_)"
   ]
  },
  {
   "cell_type": "code",
   "execution_count": 9,
   "id": "8be24152",
   "metadata": {
    "execution": {
     "iopub.execute_input": "2022-07-19T18:41:52.906414Z",
     "iopub.status.busy": "2022-07-19T18:41:52.905943Z",
     "iopub.status.idle": "2022-07-19T18:41:54.955599Z",
     "shell.execute_reply": "2022-07-19T18:41:54.954428Z"
    },
    "papermill": {
     "duration": 2.54659,
     "end_time": "2022-07-19T18:41:54.959164",
     "exception": false,
     "start_time": "2022-07-19T18:41:52.412574",
     "status": "completed"
    },
    "tags": []
   },
   "outputs": [
    {
     "name": "stderr",
     "output_type": "stream",
     "text": [
      "2022-07-19 18:41:53.526218: W tensorflow/python/util/util.cc:348] Sets are not currently considered sequences, but this may change in the future, so consider avoiding using them.\n"
     ]
    }
   ],
   "source": [
    "model.save('my_model')"
   ]
  },
  {
   "cell_type": "code",
   "execution_count": 10,
   "id": "25bf8da1",
   "metadata": {
    "execution": {
     "iopub.execute_input": "2022-07-19T18:41:56.022335Z",
     "iopub.status.busy": "2022-07-19T18:41:56.021600Z",
     "iopub.status.idle": "2022-07-19T18:41:58.525550Z",
     "shell.execute_reply": "2022-07-19T18:41:58.524118Z"
    },
    "papermill": {
     "duration": 3.072476,
     "end_time": "2022-07-19T18:41:58.528050",
     "exception": false,
     "start_time": "2022-07-19T18:41:55.455574",
     "status": "completed"
    },
    "tags": []
   },
   "outputs": [
    {
     "name": "stdout",
     "output_type": "stream",
     "text": [
      "  adding: my_model/ (stored 0%)\r\n",
      "  adding: my_model/variables/ (stored 0%)\r\n",
      "  adding: my_model/variables/variables.index (deflated 68%)\r\n",
      "  adding: my_model/variables/variables.data-00000-of-00001 (deflated 7%)\r\n",
      "  adding: my_model/assets/ (stored 0%)\r\n",
      "  adding: my_model/saved_model.pb (deflated 89%)\r\n",
      "  adding: my_model/keras_metadata.pb (deflated 93%)\r\n"
     ]
    }
   ],
   "source": [
    "!zip -r file.zip ./my_model"
   ]
  },
  {
   "cell_type": "code",
   "execution_count": null,
   "id": "90c96136",
   "metadata": {
    "papermill": {
     "duration": 0.495876,
     "end_time": "2022-07-19T18:41:59.524744",
     "exception": false,
     "start_time": "2022-07-19T18:41:59.028868",
     "status": "completed"
    },
    "tags": []
   },
   "outputs": [],
   "source": []
  }
 ],
 "metadata": {
  "kernelspec": {
   "display_name": "Python 3 (ipykernel)",
   "language": "python",
   "name": "python3"
  },
  "language_info": {
   "codemirror_mode": {
    "name": "ipython",
    "version": 3
   },
   "file_extension": ".py",
   "mimetype": "text/x-python",
   "name": "python",
   "nbconvert_exporter": "python",
   "pygments_lexer": "ipython3",
   "version": "3.9.12"
  },
  "papermill": {
   "default_parameters": {},
   "duration": 485.017629,
   "end_time": "2022-07-19T18:42:02.939675",
   "environment_variables": {},
   "exception": null,
   "input_path": "__notebook__.ipynb",
   "output_path": "__notebook__.ipynb",
   "parameters": {},
   "start_time": "2022-07-19T18:33:57.922046",
   "version": "2.3.4"
  }
 },
 "nbformat": 4,
 "nbformat_minor": 5
}
