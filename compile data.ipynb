{
 "cells": [
  {
   "cell_type": "code",
   "execution_count": 1,
   "id": "4ecba2e6",
   "metadata": {},
   "outputs": [
    {
     "name": "stderr",
     "output_type": "stream",
     "text": [
      "C:\\Users\\Apaala\\anaconda3\\lib\\site-packages\\scipy\\__init__.py:146: UserWarning: A NumPy version >=1.16.5 and <1.23.0 is required for this version of SciPy (detected version 1.23.1\n",
      "  warnings.warn(f\"A NumPy version >={np_minversion} and <{np_maxversion}\"\n"
     ]
    }
   ],
   "source": [
    "import numpy as np\n",
    "from sklearn.model_selection import train_test_split"
   ]
  },
  {
   "cell_type": "code",
   "execution_count": 2,
   "id": "839f4425",
   "metadata": {},
   "outputs": [],
   "source": [
    "etl8=[]\n",
    "for i in range(4):\n",
    "    etl8.append(np.load(\"etl8_{:d}.npz\".format(i+1))['arr_0'].reshape([-1, 48,48]))\n",
    "\n",
    "data8=np.concatenate(etl8)\n",
    "np.savez_compressed(\"etl8.npz\", data8)"
   ]
  },
  {
   "cell_type": "code",
   "execution_count": 3,
   "id": "b9abcbac",
   "metadata": {},
   "outputs": [],
   "source": [
    "label8=[]\n",
    "for i in range(4):\n",
    "    label8.append(np.load(\"etl8label_{:d}.npz\".format(i+1))['arr_0'].reshape([-1, 1]))\n",
    "\n",
    "label=np.concatenate(label8)\n",
    "np.savez_compressed(\"label8.npz\", label)"
   ]
  },
  {
   "cell_type": "code",
   "execution_count": 4,
   "id": "74ab7b12",
   "metadata": {},
   "outputs": [],
   "source": [
    "etl1=np.load('etl1.npz')['arr_0'].reshape([-1, 48,48])\n",
    "label1=np.load('labels1.npz')['arr_0'].reshape([-1, 1])\n"
   ]
  },
  {
   "cell_type": "markdown",
   "id": "823bbb17",
   "metadata": {},
   "source": [
    "Note that: ETL1 is encoded in JIS x 0201 and takes vaues between 48 and 221\n",
    "            and ETL8 in JIS x 0208\n",
    "we will find the characters accordingly at the final step"
   ]
  },
  {
   "cell_type": "code",
   "execution_count": null,
   "id": "6222d2f1",
   "metadata": {},
   "outputs": [],
   "source": [
    "data=np.concatenate([data8,etl1])\n",
    "labels=np.concatenate([label,label1])"
   ]
  },
  {
   "cell_type": "code",
   "execution_count": null,
   "id": "180e0d1a",
   "metadata": {},
   "outputs": [],
   "source": [
    "np.savez_compressed(\"data.npz\", data)\n",
    "np.savez_compressed(\"labels.npz\", labels)"
   ]
  },
  {
   "cell_type": "code",
   "execution_count": 7,
   "id": "f9cf4d37",
   "metadata": {},
   "outputs": [],
   "source": []
  },
  {
   "cell_type": "code",
   "execution_count": null,
   "id": "6f80feac",
   "metadata": {},
   "outputs": [],
   "source": []
  }
 ],
 "metadata": {
  "kernelspec": {
   "display_name": "Python 3 (ipykernel)",
   "language": "python",
   "name": "python3"
  },
  "language_info": {
   "codemirror_mode": {
    "name": "ipython",
    "version": 3
   },
   "file_extension": ".py",
   "mimetype": "text/x-python",
   "name": "python",
   "nbconvert_exporter": "python",
   "pygments_lexer": "ipython3",
   "version": "3.9.12"
  }
 },
 "nbformat": 4,
 "nbformat_minor": 5
}
