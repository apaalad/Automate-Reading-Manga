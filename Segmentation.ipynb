{
 "cells": [
  {
   "cell_type": "code",
   "execution_count": 4,
   "id": "b086db9c",
   "metadata": {},
   "outputs": [],
   "source": [
    "import numpy as np\n",
    "import cv2\n",
    "import matplotlib.pyplot as plt"
   ]
  },
  {
   "cell_type": "code",
   "execution_count": 1,
   "id": "10904887",
   "metadata": {},
   "outputs": [],
   "source": [
    "def pre_process(img):\n",
    "    gray = img#cv2.cvtColor(img,cv2.COLOR_RGB2GRAY)\n",
    "    gray = cv2.medianBlur(gray,5)\n",
    "    thresh=gray\n",
    "# Apply adaptive threshold\n",
    "    #thresh = cv2.adaptiveThreshold(gray, 255, 1, 1, 11, 2)\n",
    "    kernel = np.ones((2,2),np.uint8)\n",
    "    thresh = cv2.erode(thresh,kernel,iterations = 1) \n",
    "    thresh = cv2.dilate(thresh,kernel,iterations = 1)\n",
    "    \n",
    "    return thresh"
   ]
  },
  {
   "cell_type": "code",
   "execution_count": 1,
   "id": "3ed7af10",
   "metadata": {},
   "outputs": [],
   "source": [
    "def segment_rows(image, og_image):\n",
    "    # Width and heigth the image\n",
    "    height, width = image.shape\n",
    "    # Sum the value lines \n",
    "    vertical_px = np.sum(image, axis=0)\n",
    "    # Normalize\n",
    "    normalize = vertical_px/255\n",
    "    avg=np.quantile(normalize,0.75)\n",
    "\n",
    "\n",
    "    pts=[]\n",
    "    m=normalize.min()+1\n",
    "    #m=np.quantile(normalize,0.25)\n",
    "    idx=0\n",
    "    while(idx<width-1):\n",
    "        if ((normalize[idx]<m) and (normalize[idx+1]>m)):\n",
    "            a=idx\n",
    "            j=idx+1\n",
    "            while(normalize[j]>m):\n",
    "                j+=1\n",
    "                if j==width:\n",
    "                    j=j-1\n",
    "                    break\n",
    "            b=j\n",
    "            idx=j\n",
    "            if normalize[a:b].max()>avg:\n",
    "                pts.append((a,b))\n",
    "        else:\n",
    "            idx+=1\n",
    "\n",
    "    img=[]\n",
    "    og_img=[]\n",
    "    for i in range(len(pts)-1,-1,-1):# reading right to left\n",
    "        img.append(image[:,pts[i][0]-5:pts[i][1]+5])\n",
    "        og_img.append(og_image[:,pts[i][0]-5:pts[i][1]])\n",
    "    \n",
    "    return img,og_img"
   ]
  },
  {
   "cell_type": "code",
   "execution_count": 2,
   "id": "2adf2699",
   "metadata": {},
   "outputs": [],
   "source": [
    "def segment_char(image,og_image):\n",
    "    kernel = np.ones((4,1),np.uint8)\n",
    "    image1= cv2.dilate(image,kernel,iterations = 1)\n",
    "    height, width = image.shape\n",
    "    horizontal_px = np.sum(image1, axis=1)\n",
    "# Normalize\n",
    "    normalize = horizontal_px/255\n",
    "    pts=[]\n",
    "    level=[]\n",
    "    m=normalize.min()+1 ##+1 for rounding errors\n",
    "    idx=0\n",
    "    while(idx<height-1):\n",
    "        if ((normalize[idx]<m) and (normalize[idx+1]>m)):\n",
    "            a=idx\n",
    "            j=idx+1\n",
    "            s=normalize[a]\n",
    "            while(normalize[j]>m):\n",
    "                s+=normalize[j]\n",
    "                j+=1\n",
    "                if j==height:\n",
    "                    break\n",
    "            b=j\n",
    "            idx=j\n",
    "            pts.append((a,b))\n",
    "            level.append(s/(b-a))\n",
    "        else:\n",
    "            idx+=1\n",
    "        char=[]\n",
    "        for i in range(len(pts)):\n",
    "            if pts[i][1]-pts[i][0]>12:##only taller than a level removing '...'\n",
    "                char.append(og_image[pts[i][0]-3:pts[i][1]+3,:])\n",
    "\n",
    "    return char"
   ]
  },
  {
   "cell_type": "code",
   "execution_count": 3,
   "id": "7cea9398",
   "metadata": {},
   "outputs": [],
   "source": [
    "def segmented_sentence(img):\n",
    "    img1=pre_process(img)\n",
    "    rows1,rows=segment_rows(img1,img)\n",
    "    chars=[]\n",
    "    for i in range(len(rows)):\n",
    "        chars.append(segment_char(rows1[i],rows[i]))\n",
    "    return chars"
   ]
  },
  {
   "cell_type": "code",
   "execution_count": null,
   "id": "89402ea1",
   "metadata": {},
   "outputs": [],
   "source": []
  },
  {
   "cell_type": "code",
   "execution_count": null,
   "id": "01a72a78",
   "metadata": {},
   "outputs": [],
   "source": []
  }
 ],
 "metadata": {
  "kernelspec": {
   "display_name": "Python 3 (ipykernel)",
   "language": "python",
   "name": "python3"
  },
  "language_info": {
   "codemirror_mode": {
    "name": "ipython",
    "version": 3
   },
   "file_extension": ".py",
   "mimetype": "text/x-python",
   "name": "python",
   "nbconvert_exporter": "python",
   "pygments_lexer": "ipython3",
   "version": "3.9.12"
  }
 },
 "nbformat": 4,
 "nbformat_minor": 5
}
