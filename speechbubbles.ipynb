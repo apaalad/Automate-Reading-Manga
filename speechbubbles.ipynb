{
 "cells": [
  {
   "cell_type": "code",
   "execution_count": 1,
   "id": "923ff474",
   "metadata": {},
   "outputs": [],
   "source": [
    "import cv2\n",
    "import numpy as np"
   ]
  },
  {
   "cell_type": "code",
   "execution_count": 1,
   "id": "dbf33781",
   "metadata": {},
   "outputs": [],
   "source": [
    "def find_bubbles(image):\n",
    "    gray = cv2.cvtColor(image, cv2.COLOR_BGR2GRAY)\n",
    "    gray = cv2.medianBlur(gray, 5)\n",
    "    new_image = cv2.convertScaleAbs(gray, alpha=0.15, beta=0)\n",
    "    thresh = cv2.adaptiveThreshold(new_image, 255, 1, 1, 11, 2)\n",
    "\n",
    "    h, w = gray.shape[:2]\n",
    "    mask = np.zeros((h+2, w+2), np.uint8)\n",
    "    cv2.floodFill(thresh, mask, (0,0), 255);\n",
    "    # Invert floodfilled image\n",
    "    filled = cv2.bitwise_not(thresh)\n",
    "\n",
    "    blur = cv2.GaussianBlur(filled,(101,101),0)\n",
    "    filled = cv2.threshold(blur, 100, 255, cv2.THRESH_BINARY)[1]\n",
    "\n",
    "    kernel1 = np.ones((3,3),np.uint8)\n",
    "    kernel2 = np.ones((5,1),np.uint8)\n",
    "    filled = cv2.erode(filled,kernel1,iterations =4) \n",
    "    filled = cv2.dilate(filled,kernel2,iterations =1)\n",
    "\n",
    "    ret3,th3 = cv2.threshold(filled,0,255,cv2.THRESH_BINARY+cv2.THRESH_OTSU)\n",
    "    \n",
    "    contours, hierarchy= cv2.findContours(th3, cv2.RETR_EXTERNAL, cv2.CHAIN_APPROX_SIMPLE)\n",
    "    bubbles=[]\n",
    "    for cnt in contours:\n",
    "        x,y,w,h = cv2.boundingRect(cnt)\n",
    "        bubbles.append(image[y:y+h, x:x+w])\n",
    "        \n",
    "    return bubbles"
   ]
  },
  {
   "cell_type": "code",
   "execution_count": 2,
   "id": "b8fe588b",
   "metadata": {},
   "outputs": [],
   "source": [
    "def to_rect(img):##\n",
    "    gray = cv2.cvtColor(img, cv2.COLOR_BGR2GRAY)\n",
    "    height, width=gray.shape\n",
    "    (t,thresh) = cv2.threshold(gray, 128, 255, cv2.THRESH_BINARY | cv2.THRESH_OTSU)\n",
    "    kernel = np.ones((2,2),np.uint8)\n",
    "    thresh = cv2.erode(thresh,kernel,iterations =1) \n",
    "    thresh = cv2.dilate(thresh,kernel,iterations =1)\n",
    "    for i in range(height):\n",
    "        for j in range(width):\n",
    "            if thresh[i][j]==255:\n",
    "                break \n",
    "            thresh[i][j]=255\n",
    "        for j in range(width-1,-1,-1):\n",
    "            if thresh[i][j]==255:\n",
    "                break \n",
    "            thresh[i][j]=255  \n",
    "    return thresh"
   ]
  },
  {
   "cell_type": "code",
   "execution_count": null,
   "id": "23c06db7",
   "metadata": {},
   "outputs": [],
   "source": []
  }
 ],
 "metadata": {
  "kernelspec": {
   "display_name": "Python 3 (ipykernel)",
   "language": "python",
   "name": "python3"
  },
  "language_info": {
   "codemirror_mode": {
    "name": "ipython",
    "version": 3
   },
   "file_extension": ".py",
   "mimetype": "text/x-python",
   "name": "python",
   "nbconvert_exporter": "python",
   "pygments_lexer": "ipython3",
   "version": "3.9.12"
  }
 },
 "nbformat": 4,
 "nbformat_minor": 5
}
