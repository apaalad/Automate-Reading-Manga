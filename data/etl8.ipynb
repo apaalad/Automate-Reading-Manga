{
 "cells": [
  {
   "cell_type": "code",
   "execution_count": 44,
   "id": "fbb359ec",
   "metadata": {},
   "outputs": [],
   "source": [
    "import struct\n",
    "from PIL import Image\n",
    "import numpy as np\n",
    "import skimage.transform\n",
    "\n",
    "def read_record_ETL8G(f):\n",
    "    s = f.read(8199)\n",
    "    r = struct.unpack('>2H8sI4B4H2B30x8128s11x', s)\n",
    "    iF = Image.frombytes('F', (128, 127), r[14], 'bit', 4)\n",
    "    iL = iF.convert('L')\n",
    "    return r + (iL,)\n",
    "\n",
    "def read_etl8_1():\n",
    "    data = np.zeros([956, 40, 127, 128], dtype=np.uint8)## 956 char 160 writers(batches of 40) 127*128 images\n",
    "    label=np.zeros([956, 40],dtype=np.uint16)\n",
    "    for i in range(0, 8):\n",
    "        filename = 'ETL8G/ETL8G_{:02d}'.format(i+1)\n",
    "        with open(filename, 'rb') as f:\n",
    "            for dataset in range(5):\n",
    "                for j in range(956):\n",
    "                    r = read_record_ETL8G(f)\n",
    "                    data[j, i  * 5 + dataset] = np.array(r[-1])\n",
    "                    label[j, i  * 5 + dataset] = np.array(r[1])\n",
    "    np.savez_compressed(\"etl8_1.npz\", data)\n",
    "    np.savez_compressed(\"etl8label_1.npz\", label)\n",
    "\n",
    "read_etl8_1()"
   ]
  },
  {
   "cell_type": "code",
   "execution_count": 45,
   "id": "adf21376",
   "metadata": {},
   "outputs": [],
   "source": [
    "import skimage.transform\n",
    "import numpy as np\n",
    "from sklearn.model_selection import train_test_split\n",
    "\n",
    "hira = np.load(\"etl8_1.npz\")['arr_0'].reshape([-1, 127, 128]).astype(np.float32)\n",
    "label=np.load(\"etl8label_1.npz\")['arr_0'].reshape([-1,1]).astype(np.int16)\n",
    "\n",
    "hira = hira/np.max(hira)\n",
    "train_images = np.zeros([956 * 40, 48, 48], dtype=np.float32)\n",
    "for i in range(956 * 40):\n",
    "    train_images[i] = skimage.transform.resize(hira[i], (48, 48))\n",
    "    \n",
    "np.savez_compressed(\"etl8_1.npz\", train_images)\n",
    "np.savez_compressed(\"labels8_1.npz\", label)"
   ]
  },
  {
   "cell_type": "code",
   "execution_count": 47,
   "id": "ae44cbe7",
   "metadata": {},
   "outputs": [],
   "source": [
    "def read_etl8_2():\n",
    "    data = np.zeros([956, 40, 127, 128], dtype=np.uint8)## 956 char 160 writers(batches of 40) 127*128 images\n",
    "    label=np.zeros([956, 40],dtype=np.uint16)\n",
    "    for i in range(8, 16):\n",
    "        filename = 'ETL8G/ETL8G_{:02d}'.format(i+1)\n",
    "        with open(filename, 'rb') as f:\n",
    "            for dataset in range(5):\n",
    "                for j in range(956):\n",
    "                    r = read_record_ETL8G(f)\n",
    "                    data[j, (i-8)  * 5 + dataset] = np.array(r[-1])\n",
    "                    label[j, (i-8)  * 5 + dataset] = np.array(r[1])\n",
    "    np.savez_compressed(\"etl8_2.npz\", data)\n",
    "    np.savez_compressed(\"etl8label_2.npz\", label)\n",
    "\n",
    "read_etl8_2()"
   ]
  },
  {
   "cell_type": "code",
   "execution_count": 48,
   "id": "ae704c30",
   "metadata": {},
   "outputs": [],
   "source": [
    "hira = np.load(\"etl8_2.npz\")['arr_0'].reshape([-1, 127, 128]).astype(np.float32)\n",
    "label=np.load(\"etl8label_2.npz\")['arr_0'].reshape([-1,1]).astype(np.uint16)\n",
    "\n",
    "hira = hira/np.max(hira)\n",
    "train_images = np.zeros([956 * 40, 48, 48], dtype=np.float32)\n",
    "for i in range(956 * 40):\n",
    "    train_images[i] = skimage.transform.resize(hira[i], (48, 48))\n",
    "    \n",
    "np.savez_compressed(\"etl8_2.npz\", train_images)\n",
    "np.savez_compressed(\"labels8_2.npz\", label)"
   ]
  },
  {
   "cell_type": "code",
   "execution_count": 52,
   "id": "a0f57d50",
   "metadata": {},
   "outputs": [],
   "source": [
    "def read_etl8_3():\n",
    "    data = np.zeros([956, 40, 127, 128], dtype=np.uint8)## 956 char 160 writers(batches of 40) 127*128 images\n",
    "    label=np.zeros([956, 40],dtype=np.uint16)\n",
    "    for i in range(16, 24):\n",
    "        filename = 'ETL8G/ETL8G_{:02d}'.format(i+1)\n",
    "        with open(filename, 'rb') as f:\n",
    "            for dataset in range(5):\n",
    "                for j in range(956):\n",
    "                    r = read_record_ETL8G(f)\n",
    "                    data[j, (i-16)  * 5 + dataset] = np.array(r[-1])\n",
    "                    label[j, (i-16)  * 5 + dataset] = np.array(r[1])\n",
    "    np.savez_compressed(\"etl8_3.npz\", data)\n",
    "    np.savez_compressed(\"etl8label_3.npz\", label)\n",
    "\n",
    "read_etl8_3()"
   ]
  },
  {
   "cell_type": "code",
   "execution_count": 53,
   "id": "0193e5cf",
   "metadata": {},
   "outputs": [],
   "source": [
    "hira = np.load(\"etl8_3.npz\")['arr_0'].reshape([-1, 127, 128]).astype(np.float32)\n",
    "label=np.load(\"etl8label_3.npz\")['arr_0'].reshape([-1,1]).astype(np.uint16)\n",
    "\n",
    "hira = hira/np.max(hira)\n",
    "train_images = np.zeros([956 * 40, 48, 48], dtype=np.float32)\n",
    "for i in range(956 * 40):\n",
    "    train_images[i] = skimage.transform.resize(hira[i], (48, 48))\n",
    "    \n",
    "np.savez_compressed(\"etl8_3.npz\", train_images)\n",
    "np.savez_compressed(\"labels8_3.npz\", label)"
   ]
  },
  {
   "cell_type": "code",
   "execution_count": 55,
   "id": "d5d986af",
   "metadata": {},
   "outputs": [],
   "source": [
    "def read_etl8_4():\n",
    "    data = np.zeros([956, 40, 127, 128], dtype=np.uint8)## 956 char 160 writers(batches of 40) 127*128 images\n",
    "    label=np.zeros([956, 40],dtype=np.uint16)\n",
    "    for i in range(24, 32):\n",
    "        filename = 'ETL8G/ETL8G_{:02d}'.format(i+1)\n",
    "        with open(filename, 'rb') as f:\n",
    "            for dataset in range(5):\n",
    "                for j in range(956):\n",
    "                    r = read_record_ETL8G(f)\n",
    "                    data[j, (i-24)  * 5 + dataset] = np.array(r[-1])\n",
    "                    label[j, (i-24)  * 5 + dataset] = np.array(r[1])\n",
    "    np.savez_compressed(\"etl8_4.npz\", data)\n",
    "    np.savez_compressed(\"etl8label_4.npz\", label)\n",
    "\n",
    "read_etl8_4()"
   ]
  },
  {
   "cell_type": "code",
   "execution_count": 56,
   "id": "1be40cc3",
   "metadata": {},
   "outputs": [],
   "source": [
    "hira = np.load(\"etl8_4.npz\")['arr_0'].reshape([-1, 127, 128]).astype(np.float32)\n",
    "label=np.load(\"etl8label_4.npz\")['arr_0'].reshape([-1,1]).astype(np.uint16)\n",
    "\n",
    "hira = hira/np.max(hira)\n",
    "train_images = np.zeros([956 * 40, 48, 48], dtype=np.float32)\n",
    "for i in range(956 * 40):\n",
    "    train_images[i] = skimage.transform.resize(hira[i], (48, 48))\n",
    "    \n",
    "np.savez_compressed(\"etl8_4.npz\", train_images)\n",
    "np.savez_compressed(\"labels8_4.npz\", label)"
   ]
  },
  {
   "cell_type": "code",
   "execution_count": 46,
   "id": "4022c5f5",
   "metadata": {},
   "outputs": [
    {
     "name": "stdout",
     "output_type": "stream",
     "text": [
      "[9250]\n"
     ]
    },
    {
     "data": {
      "image/png": "[encoded data removed]",
      "text/plain": [
       "<Figure size 432x288 with 1 Axes>"
      ]
     },
     "metadata": {
      "needs_background": "light"
     },
     "output_type": "display_data"
    }
   ],
   "source": [
    "import matplotlib.pyplot as plt\n",
    "plt.imshow(train_images[30])\n",
    "print(label[30])"
   ]
  },
  {
   "cell_type": "code",
   "execution_count": 54,
   "id": "c3dbb8db",
   "metadata": {},
   "outputs": [
    {
     "data": {
      "text/plain": [
       "22"
      ]
     },
     "execution_count": 54,
     "metadata": {},
     "output_type": "execute_result"
    }
   ],
   "source": [
    "import gc\n",
    "gc.collect()"
   ]
  },
  {
   "cell_type": "code",
   "execution_count": 51,
   "id": "a2474b35",
   "metadata": {},
   "outputs": [
    {
     "data": {
      "text/plain": [
       "array([12326], dtype=uint16)"
      ]
     },
     "execution_count": 51,
     "metadata": {},
     "output_type": "execute_result"
    }
   ],
   "source": [
    "label[41]"
   ]
  },
  {
   "cell_type": "code",
   "execution_count": null,
   "id": "fad8954c",
   "metadata": {},
   "outputs": [],
   "source": []
  }
 ],
 "metadata": {
  "kernelspec": {
   "display_name": "Python 3 (ipykernel)",
   "language": "python",
   "name": "python3"
  },
  "language_info": {
   "codemirror_mode": {
    "name": "ipython",
    "version": 3
   },
   "file_extension": ".py",
   "mimetype": "text/x-python",
   "name": "python",
   "nbconvert_exporter": "python",
   "pygments_lexer": "ipython3",
   "version": "3.9.12"
  }
 },
 "nbformat": 4,
 "nbformat_minor": 5
}
